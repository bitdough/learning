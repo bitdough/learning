{
  "nbformat": 4,
  "nbformat_minor": 0,
  "metadata": {
    "colab": {
      "name": "MuFos_detector.ipynb",
      "provenance": [],
      "collapsed_sections": [],
      "include_colab_link": true
    },
    "kernelspec": {
      "name": "python3",
      "display_name": "Python 3"
    }
  },
  "cells": [
    {
      "cell_type": "markdown",
      "metadata": {
        "id": "view-in-github",
        "colab_type": "text"
      },
      "source": [
        "<a href=\"https://colab.research.google.com/github/bitdough/learning/blob/master/MuFos_detector.ipynb\" target=\"_parent\"><img src=\"https://colab.research.google.com/assets/colab-badge.svg\" alt=\"Open In Colab\"/></a>"
      ]
    },
    {
      "cell_type": "markdown",
      "metadata": {
        "id": "Jndl3j-Nd7JF",
        "colab_type": "text"
      },
      "source": [
        "# Twitter Mutual Followers Detector"
      ]
    },
    {
      "cell_type": "markdown",
      "metadata": {
        "id": "Kl1AX2PueG8H",
        "colab_type": "text"
      },
      "source": [
        "(Instructions) This code will find all of the mutual followers for a given seed account. Click \"Open in Playground Mode\" in the top left. Then just put the target username between the quotations below WITHOUT the @ sign. After you've done that click \"Runtime\" in the top menu and then click \"run all\". @emmibevensee if you have any problems. The results will be at the very bottom of this file. I think it's too slow to be worth using on accounts with huge followings right now. Please check out or contribute to the actual code here on [Twint](https://github.com/twintproject/twint-utils)."
      ]
    },
    {
      "cell_type": "code",
      "metadata": {
        "id": "kLvPgFJDeT3z",
        "colab_type": "code",
        "colab": {}
      },
      "source": [
        "#Put the target username here with no @ sign like \"emmibevensee\"\n",
        "username = \"PUT USERNAME HERE\""
      ],
      "execution_count": 0,
      "outputs": []
    },
    {
      "cell_type": "code",
      "metadata": {
        "id": "X-YtRCbizPm1",
        "colab_type": "code",
        "colab": {}
      },
      "source": [
        "!pip install twint\n",
        "#https://github.com/twintproject/twint\n",
        "#https://github.com/twintproject/twint/wiki "
      ],
      "execution_count": 0,
      "outputs": []
    },
    {
      "cell_type": "code",
      "metadata": {
        "id": "2jkriNCWzW4i",
        "colab_type": "code",
        "colab": {}
      },
      "source": [
        "import twint\n",
        "import pandas as pd\n",
        "import os"
      ],
      "execution_count": 0,
      "outputs": []
    },
    {
      "cell_type": "markdown",
      "metadata": {
        "id": "Tzl3wu8ozlHm",
        "colab_type": "text"
      },
      "source": [
        "# List of mutuals"
      ]
    },
    {
      "cell_type": "code",
      "metadata": {
        "id": "1lZrarvrzsVT",
        "colab_type": "code",
        "colab": {}
      },
      "source": [
        "def mutuals(username):\n",
        "  c = twint.Config()\n",
        "  c.Hide_output = True\n",
        "  c.Username = username\n",
        "  c.Pandas = True\n",
        "  print(\"finding followers...(ignore errors)\")\n",
        "\n",
        "  twint.run.Followers(c)\n",
        "\n",
        "  Followers_df = twint.storage.panda.Follow_df\n",
        "  list_of_followers = Followers_df['followers'][username]\n",
        "  print(\"finding following...(ignore errors)\")\n",
        "\n",
        "  twint.run.Following(c)\n",
        "\n",
        "  Following_df = twint.storage.panda.Follow_df\n",
        "  list_of_following = Following_df['following'][username]\n",
        "  print(\"finding mutuals...\")\n",
        "  def intersection(lst1, lst2):\n",
        "    return list(set(lst1) & set(lst2))\n",
        "\n",
        "  mufos = intersection(list_of_followers, list_of_following)\n",
        "  return mufos\n",
        "\n",
        "mufos = mutuals(username)"
      ],
      "execution_count": 0,
      "outputs": []
    },
    {
      "cell_type": "code",
      "metadata": {
        "id": "cOaQFHFEc0UC",
        "colab_type": "code",
        "colab": {}
      },
      "source": [
        "print(str(username)+ \" account has \" + str(len(mufos)) + \" mutual followers. Here they are:\")\n",
        "print(mufos)"
      ],
      "execution_count": 0,
      "outputs": []
    }
  ]
}
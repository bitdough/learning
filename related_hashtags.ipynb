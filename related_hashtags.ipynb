{
  "nbformat": 4,
  "nbformat_minor": 0,
  "metadata": {
    "colab": {
      "name": "related_hashtags.ipynb",
      "provenance": [],
      "collapsed_sections": [],
      "include_colab_link": true
    },
    "kernelspec": {
      "name": "python3",
      "display_name": "Python 3"
    }
  },
  "cells": [
    {
      "cell_type": "markdown",
      "metadata": {
        "id": "view-in-github",
        "colab_type": "text"
      },
      "source": [
        "<a href=\"https://colab.research.google.com/github/bitdough/learning/blob/master/related_hashtags.ipynb\" target=\"_parent\"><img src=\"https://colab.research.google.com/assets/colab-badge.svg\" alt=\"Open In Colab\"/></a>"
      ]
    },
    {
      "cell_type": "markdown",
      "metadata": {
        "id": "XlPi-vuKzBC1",
        "colab_type": "text"
      },
      "source": [
        "# Related Hashtags Detector"
      ]
    },
    {
      "cell_type": "markdown",
      "metadata": {
        "id": "ttX8MnhQzNbH",
        "colab_type": "text"
      },
      "source": [
        "This notebook finds other hashtags that are most commonly found with a given hashtag and creates a bar graph of them. This can be used to track how disinformation campaigns or stories are happening."
      ]
    },
    {
      "cell_type": "markdown",
      "metadata": {
        "id": "jphcEyuRzuRJ",
        "colab_type": "text"
      },
      "source": [
        "##Instructions to run"
      ]
    },
    {
      "cell_type": "markdown",
      "metadata": {
        "id": "VFzm5IYmzwB7",
        "colab_type": "text"
      },
      "source": [
        "Be patient. It will take a little bit to run, especially if you made the limit higher. \n",
        "\n",
        "1.   Click Open in playground mode in top-left corner\n",
        "2.   Write your seed hashtag (including the #) between the quotes below.\n",
        "3.   Change any other variables you want to.\n",
        "4.   Click Runtime in menu at top, click run all.\n",
        "5.   Visualization should be at the bottom"
      ]
    },
    {
      "cell_type": "code",
      "metadata": {
        "id": "dWWa7_uu0VHk",
        "colab_type": "code",
        "colab": {}
      },
      "source": [
        "seed_hashtag = \"#qanon\"   #change this to whatever seed hashtag you want. Qanon is fake. \n",
        "limit = 500   #This changes the number of tweets to pull"
      ],
      "execution_count": 0,
      "outputs": []
    },
    {
      "cell_type": "code",
      "metadata": {
        "id": "tv91uN8cy_qC",
        "colab_type": "code",
        "colab": {}
      },
      "source": [
        "%%capture\n",
        "!pip install twint\n",
        "\n",
        "import twint\n",
        "import heapq\n",
        "import matplotlib.pyplot as plt"
      ],
      "execution_count": 0,
      "outputs": []
    },
    {
      "cell_type": "code",
      "metadata": {
        "id": "zZwqbsKR00gT",
        "colab_type": "code",
        "colab": {}
      },
      "source": [
        "%%capture\n",
        "c = twint.Config()\n",
        "c.Hide_output = True #makes the command line less noisy\n",
        "c.Limit = limit #maximum number of tweets to pull per account\n",
        "c.Store_object = True\n",
        "c.Search = seed_hashtag\n",
        "twint.run.Search(c)\n",
        "tweets = twint.output.tweets_list\n",
        "\n",
        "#counts occurrence of hashtags\n",
        "hashtags_dict = {}\n",
        "for tweet in tweets:\n",
        "  for hashtag in tweet.hashtags:\n",
        "    if hashtag in hashtags_dict:\n",
        "      hashtags_dict[hashtag] += 1\n",
        "    else:\n",
        "      hashtags_dict[hashtag] = 1\n",
        "\n",
        "del hashtags_dict[seed_hashtag] #gets rid of seed hashtag\n",
        "top_hashtags = heapq.nlargest(10, hashtags_dict, key=hashtags_dict.get) #gets highest hashtags\n",
        "\n",
        "#makes dictionary of just highest ones\n",
        "hashtags_ranked = {}\n",
        "for hashtag in top_hashtags:\n",
        "  hashtags_ranked[hashtag] = hashtags_dict[hashtag]"
      ],
      "execution_count": 0,
      "outputs": []
    },
    {
      "cell_type": "code",
      "metadata": {
        "id": "WE7OjcKP1V_7",
        "colab_type": "code",
        "outputId": "66a82231-fd3e-4c69-a513-0f337a1231da",
        "colab": {
          "base_uri": "https://localhost:8080/",
          "height": 281
        }
      },
      "source": [
        "plt.barh(range(len(hashtags_ranked)), list(hashtags_ranked.values()), align='center', color = 'maroon')\n",
        "plt.yticks(range(len(hashtags_ranked)), list(hashtags_ranked.keys()))\n",
        "plt.gca().invert_yaxis() #just to have the highest bar at the top\n",
        "plt.title(\"Most Related Hashtags to \" + seed_hashtag)\n",
        "plt.show()"
      ],
      "execution_count": 0,
      "outputs": [
        {
          "output_type": "display_data",
          "data": {
            "image/png": "[encoded data removed]",
            "text/plain": [
              "<Figure size 432x288 with 1 Axes>"
            ]
          },
          "metadata": {
            "tags": []
          }
        }
      ]
    },
    {
      "cell_type": "code",
      "metadata": {
        "id": "_eKjn4WW3oyN",
        "colab_type": "code",
        "outputId": "cec68aac-39ed-4028-9089-e059401520a9",
        "colab": {
          "base_uri": "https://localhost:8080/",
          "height": 74
        }
      },
      "source": [
        "print(\"List of most related hashtags:\")\n",
        "print(top_hashtags)"
      ],
      "execution_count": 0,
      "outputs": [
        {
          "output_type": "stream",
          "text": [
            "List of most related hashtags:\n",
            "['#wwg1wga', '#maga', '#kag2020', '#greatawakening', '#kag', '#factsmatter', '#wakeupamerica', '#unitednotdivided', '#saveamerica', '#wearethenewsnow']\n"
          ],
          "name": "stdout"
        }
      ]
    }
  ]
}